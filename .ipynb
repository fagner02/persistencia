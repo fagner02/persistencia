{
 "cells": [
  {
   "cell_type": "code",
   "execution_count": 21,
   "metadata": {},
   "outputs": [],
   "source": [
    "import pandas as pd\n",
    "import random\n",
    "from faker import Faker\n",
    "\n",
    "fake = Faker()\n",
    "\n",
    "\n",
    "# Função para gerar dados aleatórios\n",
    "def generate_random_data(num_rows):\n",
    "    data = {\n",
    "        \"id\": range(1, num_rows + 1),\n",
    "        \"titulo\": [\n",
    "            \" \".join(fake.words(random.randint(1, 3))).capitalize() for i in range(1, num_rows + 1)\n",
    "        ],\n",
    "        \"autor\": [f\"{fake.name()}\" for i in range(1, num_rows + 1)],\n",
    "        \"ano\": [random.randint(1900, 2023) for _ in range(num_rows)],\n",
    "        \"genero\": [\n",
    "            [\"Ficção\", \"Não-ficção\", \"Romance\", \"Terror\"][random.randint(0, 3)]\n",
    "            for _ in range(num_rows)\n",
    "        ],\n",
    "        \"editora\": [([fake.word() for a in range(5)][random.randint(0,4)]).capitalize() for i in range(1, num_rows + 1)],\n",
    "    }\n",
    "    return pd.DataFrame(data)\n",
    "\n",
    "# Gerando 1000 linhas de dados\n",
    "df = generate_random_data(100)\n",
    "\n",
    "# Salvando em um arquivo CSV\n",
    "df.to_csv('dados.csv', index=False)"
   ]
  }
 ],
 "metadata": {
  "kernelspec": {
   "display_name": "Python 3",
   "language": "python",
   "name": "python3"
  },
  "language_info": {
   "codemirror_mode": {
    "name": "ipython",
    "version": 3
   },
   "file_extension": ".py",
   "mimetype": "text/x-python",
   "name": "python",
   "nbconvert_exporter": "python",
   "pygments_lexer": "ipython3",
   "version": "3.11.5"
  }
 },
 "nbformat": 4,
 "nbformat_minor": 2
}
